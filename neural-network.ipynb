{
 "cells": [
  {
   "cell_type": "code",
   "execution_count": 1,
   "metadata": {},
   "outputs": [],
   "source": [
    "%matplotlib inline\n",
    "import numpy as np\n",
    "import pandas as pd\n",
    "from sklearn.utils import shuffle\n",
    "import matplotlib.pyplot as plt\n",
    "from fungsi import sigmoid"
   ]
  },
  {
   "attachments": {},
   "cell_type": "markdown",
   "metadata": {},
   "source": [
    "# Generate Data"
   ]
  },
  {
   "attachments": {},
   "cell_type": "markdown",
   "metadata": {},
   "source": [
    "## Data Otong\n",
    "Otong orangnya tinggi-kurus"
   ]
  },
  {
   "cell_type": "code",
   "execution_count": 2,
   "metadata": {},
   "outputs": [],
   "source": [
    "# tinggi badan\n",
    "x1 = np.array([18 + 1*np.random.randn() for i in range(1,100)])\n",
    "# berat badan\n",
    "x2 = np.array([5 + 1*np.random.randn() for i in range(1,100)])\n",
    "# status Otong\n",
    "y1 = np.array([1 for i in range(1,100)])\n",
    "# status Ucup\n",
    "y2 = np.array([0 for i in range(1,100)])\n",
    "# label\n",
    "label = ['otong' for i in range(1,100)]\n",
    "\n",
    "# data kompilasi\n",
    "data_otong = {\n",
    "    'x1' : x1,\n",
    "    'x2' : x2,\n",
    "    'y1' : y1,\n",
    "    'y2' : y2,\n",
    "    'label' : label\n",
    "}\n",
    "\n",
    "# data frame\n",
    "data_frame_otong = pd.DataFrame(data=data_otong)\n"
   ]
  },
  {
   "cell_type": "code",
   "execution_count": 3,
   "metadata": {},
   "outputs": [
    {
     "name": "stdout",
     "output_type": "stream",
     "text": [
      "           x1        x2  y1  y2  label\n",
      "0   16.545600  4.725797   1   0  otong\n",
      "1   17.009639  6.790026   1   0  otong\n",
      "2   17.422965  5.483424   1   0  otong\n",
      "3   18.097781  5.721039   1   0  otong\n",
      "4   19.457828  5.204285   1   0  otong\n",
      "..        ...       ...  ..  ..    ...\n",
      "94  16.811095  5.866491   1   0  otong\n",
      "95  18.169570  4.370218   1   0  otong\n",
      "96  16.357478  5.202983   1   0  otong\n",
      "97  19.481307  4.368388   1   0  otong\n",
      "98  17.929670  3.958178   1   0  otong\n",
      "\n",
      "[99 rows x 5 columns]\n"
     ]
    }
   ],
   "source": [
    "print(data_frame_otong)"
   ]
  },
  {
   "attachments": {},
   "cell_type": "markdown",
   "metadata": {},
   "source": [
    "## Data Ucup\n",
    "Ucup orangnya pendek-gemuk"
   ]
  },
  {
   "cell_type": "code",
   "execution_count": 4,
   "metadata": {},
   "outputs": [],
   "source": [
    "# tinggi badan\n",
    "x1 = np.array([10 + 1*np.random.randn() for i in range(1,100)])\n",
    "# berat badan\n",
    "x2 = np.array([8 + 1*np.random.randn() for i in range(1,100)])\n",
    "# status Otong\n",
    "y1 = np.array([0 for i in range(1,100)])\n",
    "# status Ucup\n",
    "y2 = np.array([1 for i in range(1,100)])\n",
    "# label\n",
    "label = ['ucup' for i in range(1,100)]\n",
    "\n",
    "# data kompilasi\n",
    "data_ucup = {\n",
    "    'x1' : x1,\n",
    "    'x2' : x2,\n",
    "    'y1' : y1,\n",
    "    'y2' : y2,\n",
    "    'label' : label\n",
    "}\n",
    "\n",
    "# data frame\n",
    "data_frame_ucup = pd.DataFrame(data=data_ucup)"
   ]
  },
  {
   "cell_type": "code",
   "execution_count": 5,
   "metadata": {},
   "outputs": [
    {
     "name": "stdout",
     "output_type": "stream",
     "text": [
      "           x1        x2  y1  y2 label\n",
      "0    9.551770  6.640343   0   1  ucup\n",
      "1    8.588837  6.571800   0   1  ucup\n",
      "2   10.115742  8.812853   0   1  ucup\n",
      "3   11.227833  7.221301   0   1  ucup\n",
      "4   10.856641  9.159161   0   1  ucup\n",
      "..        ...       ...  ..  ..   ...\n",
      "94  10.498168  9.296554   0   1  ucup\n",
      "95   9.552133  9.505693   0   1  ucup\n",
      "96   9.098274  8.427027   0   1  ucup\n",
      "97   9.564986  7.462963   0   1  ucup\n",
      "98  10.471629  4.809224   0   1  ucup\n",
      "\n",
      "[99 rows x 5 columns]\n"
     ]
    }
   ],
   "source": [
    "print(data_frame_ucup)"
   ]
  },
  {
   "attachments": {},
   "cell_type": "markdown",
   "metadata": {},
   "source": [
    "## Gabungkan Data"
   ]
  },
  {
   "cell_type": "code",
   "execution_count": 6,
   "metadata": {},
   "outputs": [],
   "source": [
    "data_frame = pd.concat([data_frame_otong,data_frame_ucup])\n",
    "data_frame = shuffle(data_frame)\n",
    "data_frame.reset_index(inplace=True,drop=True)"
   ]
  },
  {
   "cell_type": "code",
   "execution_count": 7,
   "metadata": {},
   "outputs": [
    {
     "name": "stdout",
     "output_type": "stream",
     "text": [
      "            x1        x2  y1  y2  label\n",
      "0    16.811095  5.866491   1   0  otong\n",
      "1    18.777089  6.356971   1   0  otong\n",
      "2     9.118871  8.915369   0   1   ucup\n",
      "3    19.697665  5.833603   1   0  otong\n",
      "4    17.424762  4.177348   1   0  otong\n",
      "..         ...       ...  ..  ..    ...\n",
      "193  18.439590  4.354333   1   0  otong\n",
      "194  11.857132  9.617205   0   1   ucup\n",
      "195   9.991236  8.182096   0   1   ucup\n",
      "196  17.422965  5.483424   1   0  otong\n",
      "197  10.636936  6.382693   0   1   ucup\n",
      "\n",
      "[198 rows x 5 columns]\n"
     ]
    }
   ],
   "source": [
    "print(data_frame)"
   ]
  },
  {
   "cell_type": "code",
   "execution_count": 8,
   "metadata": {},
   "outputs": [
    {
     "data": {
      "image/png": "[encoded data removed]",
      "text/plain": [
       "<Figure size 640x480 with 1 Axes>"
      ]
     },
     "metadata": {},
     "output_type": "display_data"
    }
   ],
   "source": [
    "plt.scatter(data_frame_otong.x1,data_frame_otong.x2)\n",
    "plt.scatter(data_frame_ucup.x1,data_frame_ucup.x2)\n",
    "plt.show()"
   ]
  },
  {
   "attachments": {},
   "cell_type": "markdown",
   "metadata": {},
   "source": [
    "# Neural Network"
   ]
  },
  {
   "attachments": {},
   "cell_type": "markdown",
   "metadata": {},
   "source": [
    "## 1. Matrix Weight"
   ]
  },
  {
   "cell_type": "code",
   "execution_count": 9,
   "metadata": {},
   "outputs": [],
   "source": [
    "w11 = np.random.uniform(-0.01,0.01)\n",
    "w12 = np.random.uniform(-0.01,0.01)\n",
    "w21 = np.random.uniform(-0.01,0.01)\n",
    "w22 = np.random.uniform(-0.01,0.01)\n",
    "\n",
    "W = np.array([[w11,w12],[w21,w22]])"
   ]
  },
  {
   "cell_type": "code",
   "execution_count": 10,
   "metadata": {},
   "outputs": [
    {
     "name": "stdout",
     "output_type": "stream",
     "text": [
      "[[-0.00443232  0.00864702]\n",
      " [-0.0099727   0.0038478 ]]\n"
     ]
    }
   ],
   "source": [
    "print(W)"
   ]
  },
  {
   "attachments": {},
   "cell_type": "markdown",
   "metadata": {},
   "source": [
    "## 2. Iterasi Neural Networknya"
   ]
  },
  {
   "cell_type": "code",
   "execution_count": 11,
   "metadata": {},
   "outputs": [
    {
     "name": "stdout",
     "output_type": "stream",
     "text": [
      "index: 0, tebakan: otong, jawaban: otong\n",
      "index: 1, tebakan: otong, jawaban: otong\n",
      "index: 2, tebakan: otong, jawaban: ucup\n",
      "index: 3, tebakan: otong, jawaban: otong\n",
      "index: 4, tebakan: otong, jawaban: otong\n",
      "index: 5, tebakan: otong, jawaban: otong\n",
      "index: 6, tebakan: otong, jawaban: ucup\n",
      "index: 7, tebakan: otong, jawaban: otong\n",
      "index: 8, tebakan: otong, jawaban: otong\n",
      "index: 9, tebakan: otong, jawaban: ucup\n",
      "index: 10, tebakan: ucup, jawaban: ucup\n",
      "index: 11, tebakan: ucup, jawaban: ucup\n",
      "index: 12, tebakan: ucup, jawaban: otong\n",
      "index: 13, tebakan: ucup, jawaban: ucup\n",
      "index: 14, tebakan: ucup, jawaban: otong\n",
      "index: 15, tebakan: otong, jawaban: ucup\n",
      "index: 16, tebakan: ucup, jawaban: ucup\n",
      "index: 17, tebakan: ucup, jawaban: ucup\n",
      "index: 18, tebakan: ucup, jawaban: otong\n",
      "index: 19, tebakan: otong, jawaban: ucup\n",
      "index: 20, tebakan: otong, jawaban: otong\n",
      "index: 21, tebakan: otong, jawaban: otong\n",
      "index: 22, tebakan: otong, jawaban: otong\n",
      "index: 23, tebakan: otong, jawaban: otong\n",
      "index: 24, tebakan: ucup, jawaban: ucup\n",
      "index: 25, tebakan: ucup, jawaban: ucup\n",
      "index: 26, tebakan: otong, jawaban: otong\n",
      "index: 27, tebakan: ucup, jawaban: ucup\n",
      "index: 28, tebakan: ucup, jawaban: ucup\n",
      "index: 29, tebakan: ucup, jawaban: otong\n",
      "index: 30, tebakan: otong, jawaban: ucup\n",
      "index: 31, tebakan: ucup, jawaban: ucup\n",
      "index: 32, tebakan: ucup, jawaban: ucup\n",
      "index: 33, tebakan: ucup, jawaban: ucup\n",
      "index: 34, tebakan: otong, jawaban: otong\n",
      "index: 35, tebakan: otong, jawaban: otong\n",
      "index: 36, tebakan: ucup, jawaban: ucup\n",
      "index: 37, tebakan: ucup, jawaban: ucup\n",
      "index: 38, tebakan: otong, jawaban: otong\n",
      "index: 39, tebakan: otong, jawaban: otong\n",
      "index: 40, tebakan: otong, jawaban: otong\n",
      "index: 41, tebakan: otong, jawaban: otong\n",
      "index: 42, tebakan: ucup, jawaban: ucup\n",
      "index: 43, tebakan: otong, jawaban: otong\n",
      "index: 44, tebakan: otong, jawaban: otong\n",
      "index: 45, tebakan: ucup, jawaban: ucup\n",
      "index: 46, tebakan: ucup, jawaban: otong\n",
      "index: 47, tebakan: ucup, jawaban: ucup\n",
      "index: 48, tebakan: otong, jawaban: otong\n",
      "index: 49, tebakan: ucup, jawaban: ucup\n",
      "index: 50, tebakan: otong, jawaban: otong\n",
      "index: 51, tebakan: otong, jawaban: otong\n",
      "index: 52, tebakan: otong, jawaban: otong\n",
      "index: 53, tebakan: otong, jawaban: otong\n",
      "index: 54, tebakan: otong, jawaban: otong\n",
      "index: 55, tebakan: ucup, jawaban: ucup\n",
      "index: 56, tebakan: ucup, jawaban: ucup\n",
      "index: 57, tebakan: otong, jawaban: otong\n",
      "index: 58, tebakan: ucup, jawaban: ucup\n",
      "index: 59, tebakan: otong, jawaban: otong\n",
      "index: 60, tebakan: ucup, jawaban: ucup\n",
      "index: 61, tebakan: otong, jawaban: otong\n",
      "index: 62, tebakan: ucup, jawaban: ucup\n",
      "index: 63, tebakan: otong, jawaban: otong\n",
      "index: 64, tebakan: otong, jawaban: otong\n",
      "index: 65, tebakan: otong, jawaban: otong\n",
      "index: 66, tebakan: otong, jawaban: otong\n",
      "index: 67, tebakan: ucup, jawaban: ucup\n",
      "index: 68, tebakan: ucup, jawaban: ucup\n",
      "index: 69, tebakan: ucup, jawaban: ucup\n",
      "index: 70, tebakan: ucup, jawaban: ucup\n",
      "index: 71, tebakan: ucup, jawaban: ucup\n",
      "index: 72, tebakan: ucup, jawaban: ucup\n",
      "index: 73, tebakan: otong, jawaban: otong\n",
      "index: 74, tebakan: ucup, jawaban: ucup\n",
      "index: 75, tebakan: otong, jawaban: otong\n",
      "index: 76, tebakan: ucup, jawaban: ucup\n",
      "index: 77, tebakan: otong, jawaban: otong\n",
      "index: 78, tebakan: ucup, jawaban: ucup\n",
      "index: 79, tebakan: ucup, jawaban: ucup\n",
      "index: 80, tebakan: otong, jawaban: otong\n",
      "index: 81, tebakan: otong, jawaban: otong\n",
      "index: 82, tebakan: ucup, jawaban: ucup\n",
      "index: 83, tebakan: ucup, jawaban: ucup\n",
      "index: 84, tebakan: otong, jawaban: otong\n",
      "index: 85, tebakan: ucup, jawaban: ucup\n",
      "index: 86, tebakan: otong, jawaban: otong\n",
      "index: 87, tebakan: ucup, jawaban: ucup\n",
      "index: 88, tebakan: ucup, jawaban: ucup\n",
      "index: 89, tebakan: ucup, jawaban: ucup\n",
      "index: 90, tebakan: otong, jawaban: otong\n",
      "index: 91, tebakan: otong, jawaban: otong\n",
      "index: 92, tebakan: otong, jawaban: otong\n",
      "index: 93, tebakan: otong, jawaban: otong\n",
      "index: 94, tebakan: ucup, jawaban: ucup\n",
      "index: 95, tebakan: otong, jawaban: otong\n",
      "index: 96, tebakan: ucup, jawaban: ucup\n",
      "index: 97, tebakan: otong, jawaban: otong\n",
      "index: 98, tebakan: ucup, jawaban: ucup\n",
      "index: 99, tebakan: otong, jawaban: otong\n",
      "index: 100, tebakan: ucup, jawaban: ucup\n",
      "index: 101, tebakan: otong, jawaban: otong\n",
      "index: 102, tebakan: ucup, jawaban: ucup\n",
      "index: 103, tebakan: ucup, jawaban: ucup\n",
      "index: 104, tebakan: ucup, jawaban: ucup\n",
      "index: 105, tebakan: otong, jawaban: otong\n",
      "index: 106, tebakan: otong, jawaban: otong\n",
      "index: 107, tebakan: ucup, jawaban: ucup\n",
      "index: 108, tebakan: ucup, jawaban: ucup\n",
      "index: 109, tebakan: ucup, jawaban: ucup\n",
      "index: 110, tebakan: otong, jawaban: otong\n",
      "index: 111, tebakan: ucup, jawaban: ucup\n",
      "index: 112, tebakan: otong, jawaban: otong\n",
      "index: 113, tebakan: otong, jawaban: otong\n",
      "index: 114, tebakan: ucup, jawaban: ucup\n",
      "index: 115, tebakan: otong, jawaban: otong\n",
      "index: 116, tebakan: otong, jawaban: otong\n",
      "index: 117, tebakan: ucup, jawaban: ucup\n",
      "index: 118, tebakan: ucup, jawaban: ucup\n",
      "index: 119, tebakan: ucup, jawaban: ucup\n",
      "index: 120, tebakan: ucup, jawaban: ucup\n",
      "index: 121, tebakan: ucup, jawaban: ucup\n",
      "index: 122, tebakan: otong, jawaban: otong\n",
      "index: 123, tebakan: otong, jawaban: otong\n",
      "index: 124, tebakan: ucup, jawaban: ucup\n",
      "index: 125, tebakan: otong, jawaban: otong\n",
      "index: 126, tebakan: ucup, jawaban: ucup\n",
      "index: 127, tebakan: ucup, jawaban: ucup\n",
      "index: 128, tebakan: otong, jawaban: otong\n",
      "index: 129, tebakan: ucup, jawaban: ucup\n",
      "index: 130, tebakan: otong, jawaban: otong\n",
      "index: 131, tebakan: otong, jawaban: otong\n",
      "index: 132, tebakan: otong, jawaban: otong\n",
      "index: 133, tebakan: otong, jawaban: otong\n",
      "index: 134, tebakan: ucup, jawaban: ucup\n",
      "index: 135, tebakan: otong, jawaban: otong\n",
      "index: 136, tebakan: ucup, jawaban: ucup\n",
      "index: 137, tebakan: ucup, jawaban: ucup\n",
      "index: 138, tebakan: otong, jawaban: otong\n",
      "index: 139, tebakan: ucup, jawaban: ucup\n",
      "index: 140, tebakan: otong, jawaban: otong\n",
      "index: 141, tebakan: ucup, jawaban: ucup\n",
      "index: 142, tebakan: otong, jawaban: otong\n",
      "index: 143, tebakan: otong, jawaban: otong\n",
      "index: 144, tebakan: ucup, jawaban: ucup\n",
      "index: 145, tebakan: otong, jawaban: otong\n",
      "index: 146, tebakan: otong, jawaban: otong\n",
      "index: 147, tebakan: otong, jawaban: otong\n",
      "index: 148, tebakan: ucup, jawaban: ucup\n",
      "index: 149, tebakan: otong, jawaban: otong\n",
      "index: 150, tebakan: ucup, jawaban: ucup\n",
      "index: 151, tebakan: otong, jawaban: otong\n",
      "index: 152, tebakan: otong, jawaban: otong\n",
      "index: 153, tebakan: ucup, jawaban: ucup\n",
      "index: 154, tebakan: otong, jawaban: otong\n",
      "index: 155, tebakan: otong, jawaban: otong\n",
      "index: 156, tebakan: ucup, jawaban: ucup\n",
      "index: 157, tebakan: ucup, jawaban: ucup\n",
      "index: 158, tebakan: ucup, jawaban: ucup\n",
      "index: 159, tebakan: ucup, jawaban: ucup\n",
      "index: 160, tebakan: ucup, jawaban: ucup\n",
      "index: 161, tebakan: otong, jawaban: otong\n",
      "index: 162, tebakan: otong, jawaban: otong\n",
      "index: 163, tebakan: otong, jawaban: otong\n",
      "index: 164, tebakan: otong, jawaban: otong\n",
      "index: 165, tebakan: ucup, jawaban: ucup\n",
      "index: 166, tebakan: ucup, jawaban: ucup\n",
      "index: 167, tebakan: otong, jawaban: otong\n",
      "index: 168, tebakan: ucup, jawaban: ucup\n",
      "index: 169, tebakan: ucup, jawaban: ucup\n",
      "index: 170, tebakan: otong, jawaban: otong\n",
      "index: 171, tebakan: ucup, jawaban: ucup\n",
      "index: 172, tebakan: otong, jawaban: otong\n",
      "index: 173, tebakan: ucup, jawaban: ucup\n",
      "index: 174, tebakan: ucup, jawaban: ucup\n",
      "index: 175, tebakan: otong, jawaban: otong\n",
      "index: 176, tebakan: otong, jawaban: otong\n",
      "index: 177, tebakan: otong, jawaban: otong\n",
      "index: 178, tebakan: otong, jawaban: otong\n",
      "index: 179, tebakan: ucup, jawaban: ucup\n",
      "index: 180, tebakan: ucup, jawaban: ucup\n",
      "index: 181, tebakan: ucup, jawaban: ucup\n",
      "index: 182, tebakan: ucup, jawaban: ucup\n",
      "index: 183, tebakan: otong, jawaban: otong\n",
      "index: 184, tebakan: ucup, jawaban: ucup\n",
      "index: 185, tebakan: otong, jawaban: otong\n",
      "index: 186, tebakan: otong, jawaban: otong\n",
      "index: 187, tebakan: ucup, jawaban: ucup\n",
      "index: 188, tebakan: ucup, jawaban: ucup\n",
      "index: 189, tebakan: otong, jawaban: otong\n",
      "index: 190, tebakan: ucup, jawaban: ucup\n",
      "index: 191, tebakan: otong, jawaban: otong\n",
      "index: 192, tebakan: ucup, jawaban: ucup\n",
      "index: 193, tebakan: otong, jawaban: otong\n",
      "index: 194, tebakan: ucup, jawaban: ucup\n",
      "index: 195, tebakan: ucup, jawaban: ucup\n",
      "index: 196, tebakan: otong, jawaban: otong\n",
      "index: 197, tebakan: ucup, jawaban: ucup\n"
     ]
    }
   ],
   "source": [
    "learning_rate = 0.1\n",
    "answer = []\n",
    "error_array = np.zeros((2,len(data_frame)))\n",
    "for index,baris in data_frame.iterrows():\n",
    "    W_lama = W\n",
    "    input = np.array([[baris.x1],[baris.x2]])\n",
    "    output_hidden = np.dot(W_lama,input) \n",
    "    output_learn = sigmoid(output_hidden)\n",
    "    output_actual = np.array([[baris.y1],[baris.y2]])\n",
    "    \n",
    "    error = output_actual-output_learn\n",
    "\n",
    "    delta_W = np.dot(learning_rate*error*output_learn*(1-output_learn),input.T)\n",
    "    \n",
    "    W_baru = W_lama+delta_W\n",
    "    W = W_baru\n",
    "\n",
    "    error_array[:,index] = error.T*error.T\n",
    "    \n",
    "    tebakan = np.argmax(output_learn)\n",
    "    jawaban = np.argmax(output_actual)\n",
    "\n",
    "    label_tebakan = \"ucup\" if tebakan==1 else \"otong\"\n",
    "    \n",
    "    print(f\"index: {index}, tebakan: {label_tebakan}, jawaban: {baris.label}\")\n",
    "\n",
    "    if tebakan == jawaban:\n",
    "        answer.append(1)\n",
    "    else:\n",
    "        answer.append(0)"
   ]
  },
  {
   "cell_type": "code",
   "execution_count": 12,
   "metadata": {},
   "outputs": [
    {
     "data": {
      "text/plain": [
       "[<matplotlib.lines.Line2D at 0x2c78b8c37f0>,\n",
       " <matplotlib.lines.Line2D at 0x2c78b8c3850>]"
      ]
     },
     "execution_count": 12,
     "metadata": {},
     "output_type": "execute_result"
    },
    {
     "data": {
      "image/png": "[encoded data removed]",
      "text/plain": [
       "<Figure size 640x480 with 1 Axes>"
      ]
     },
     "metadata": {},
     "output_type": "display_data"
    }
   ],
   "source": [
    "plt.plot(error_array.T)"
   ]
  },
  {
   "cell_type": "code",
   "execution_count": 13,
   "metadata": {},
   "outputs": [
    {
     "data": {
      "text/plain": [
       "[<matplotlib.lines.Line2D at 0x2c78b971e40>]"
      ]
     },
     "execution_count": 13,
     "metadata": {},
     "output_type": "execute_result"
    },
    {
     "data": {
      "image/png": "[encoded data removed]",
      "text/plain": [
       "<Figure size 640x480 with 1 Axes>"
      ]
     },
     "metadata": {},
     "output_type": "display_data"
    }
   ],
   "source": [
    "plt.plot(answer)"
   ]
  },
  {
   "cell_type": "code",
   "execution_count": 17,
   "metadata": {},
   "outputs": [
    {
     "name": "stdout",
     "output_type": "stream",
     "text": [
      "tinggi = 165.0, berat = 55.0, adalah otong\n"
     ]
    }
   ],
   "source": [
    "x1 = 16.5\n",
    "x2 = 5.5\n",
    "\n",
    "input = np.array([[x1],[x2]])\n",
    "output_hidden = np.dot(W,input)\n",
    "output_prediction = sigmoid(output_hidden)\n",
    "\n",
    "prediction = np.argmax(output_prediction)\n",
    "\n",
    "label_prediction = \"ucup\" if prediction == 1 else \"otong\"\n",
    "\n",
    "print(f\"tinggi = {x1*10}, berat = {x2*10}, adalah {label_prediction}\")"
   ]
  }
 ],
 "metadata": {
  "kernelspec": {
   "display_name": "Env",
   "language": "python",
   "name": "python3"
  },
  "language_info": {
   "codemirror_mode": {
    "name": "ipython",
    "version": 3
   },
   "file_extension": ".py",
   "mimetype": "text/x-python",
   "name": "python",
   "nbconvert_exporter": "python",
   "pygments_lexer": "ipython3",
   "version": "3.10.10"
  },
  "orig_nbformat": 4,
  "vscode": {
   "interpreter": {
    "hash": "4a60919213ae714254628eada3b71d21a6cd2fab8ad22168b7f4fa85cb35abd9"
   }
  }
 },
 "nbformat": 4,
 "nbformat_minor": 2
}
